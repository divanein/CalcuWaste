{
  "cells": [
    {
      "cell_type": "code",
      "execution_count": 2,
      "metadata": {
        "colab": {
          "base_uri": "https://localhost:8080/"
        },
        "id": "GNOhPExYz39o",
        "outputId": "b8b06528-da61-489a-d7f9-a801eeb59909"
      },
      "outputs": [
        {
          "output_type": "stream",
          "name": "stdout",
          "text": [
            "Drive already mounted at /content/gdrive; to attempt to forcibly remount, call drive.mount(\"/content/gdrive\", force_remount=True).\n"
          ]
        }
      ],
      "source": [
        "from google.colab import drive\n",
        "drive.mount('/content/gdrive')"
      ]
    },
    {
      "cell_type": "code",
      "execution_count": null,
      "metadata": {
        "id": "7PCduKLTjfOL"
      },
      "outputs": [],
      "source": [
        "import tensorflow as tf\n",
        "import numpy as np\n",
        "from tensorflow.keras.preprocessing.image import ImageDataGenerator\n",
        "import os\n",
        "import cv2\n",
        "import random\n",
        "import matplotlib.pyplot as plt\n",
        "from google.colab import files\n",
        "from tensorflow.keras.utils import load_img, img_to_array"
      ]
    },
    {
      "cell_type": "code",
      "execution_count": null,
      "metadata": {
        "id": "jUk9s-1bunez"
      },
      "outputs": [],
      "source": [
        "!unzip /content/gdrive/MyDrive/DatasetV2Trimmed5.zip -d /content/dataset"
      ]
    },
    {
      "cell_type": "code",
      "execution_count": null,
      "metadata": {
        "id": "45aNF0khrsjV"
      },
      "outputs": [],
      "source": [
        "base_dir=\"/content/dataset\"\n",
        "os.listdir('/content/dataset')"
      ]
    },
    {
      "cell_type": "code",
      "execution_count": null,
      "metadata": {
        "id": "rU1Y52KOp196"
      },
      "outputs": [],
      "source": [
        "IMAGE_SIZE=224\n",
        "BATCH_SIZE=50\n",
        "\n",
        "#Perform augmentation on the images\n",
        "train_datagen=tf.keras.preprocessing.image.ImageDataGenerator(\n",
        "    rescale=1./255,\n",
        "    width_shift_range=0.2,\n",
        "    height_shift_range=0.2,\n",
        "    zoom_range=0.2,\n",
        "    rotation_range=40,\n",
        "    shear_range=0.2,\n",
        "    horizontal_flip=True,\n",
        ")\n",
        "\n",
        "test_datagen=tf.keras.preprocessing.image.ImageDataGenerator(\n",
        "    rescale=1./255,\n",
        "    validation_split=0.1\n",
        ")\n",
        "\n",
        "train_datagen=train_datagen.flow_from_directory(\n",
        "    base_dir,\n",
        "    target_size=(IMAGE_SIZE,IMAGE_SIZE),\n",
        "    batch_size=BATCH_SIZE,\n",
        "    subset='training'\n",
        ")\n",
        "\n",
        "test_datagen=test_datagen.flow_from_directory(\n",
        "    base_dir,\n",
        "    target_size=(IMAGE_SIZE,IMAGE_SIZE),\n",
        "    batch_size=BATCH_SIZE,\n",
        "    subset='validation'\n",
        "\n",
        ")\n"
      ]
    },
    {
      "cell_type": "code",
      "execution_count": null,
      "metadata": {
        "id": "MmENMzh6MppL"
      },
      "outputs": [],
      "source": [
        "class_indices = train_datagen.class_indices\n",
        "class_labels = list(class_indices.keys())\n",
        "\n",
        "print(\"Class Indices:\", class_indices)\n",
        "print(\"Class Labels:\", class_labels)"
      ]
    },
    {
      "cell_type": "code",
      "execution_count": null,
      "metadata": {
        "id": "V9qgI-0O7lke"
      },
      "outputs": [],
      "source": [
        "#Will do transfer learning from MobileNetV2\n",
        "base = tf.keras.applications.mobilenet_v2.MobileNetV2(include_top=False, weights='imagenet', input_shape=(224, 224, 3), pooling='avg')\n",
        "base.trainable = False\n",
        "model = tf.keras.models.Sequential([\n",
        "    # tf.keras.layers.Conv2D(32, (3, 3), activation='relu', input_shape=(224, 224, 3)),\n",
        "    # tf.keras.layers.MaxPooling2D((2, 2)),\n",
        "    # tf.keras.layers.Conv2D(64, (3, 3), activation='relu'),\n",
        "    # tf.keras.layers.MaxPooling2D((2, 2)),\n",
        "    # tf.keras.layers.Conv2D(128, (3, 3), activation='relu'),\n",
        "    # tf.keras.layers.MaxPooling2D((2, 2)),\n",
        "    # tf.keras.layers.Flatten(),\n",
        "    base,\n",
        "    tf.keras.layers.Dense(256, activation='relu'),\n",
        "    tf.keras.layers.Dense(128, activation='relu'),\n",
        "    tf.keras.layers.Dropout(0.3),\n",
        "    tf.keras.layers.Dense(5, activation='softmax') #Change this according to number of classes\n",
        "])\n",
        "\n",
        "model.compile(optimizer='adam',\n",
        "              loss='categorical_crossentropy',\n",
        "              metrics=['accuracy'])\n",
        "\n",
        "model.summary()"
      ]
    },
    {
      "cell_type": "code",
      "execution_count": null,
      "metadata": {
        "id": "DaLPBlkejUif"
      },
      "outputs": [],
      "source": [
        "#Set the callbacks\n",
        "checkpoint = tf.keras.callbacks.ModelCheckpoint(\n",
        "    'model_checkpoint,h5',\n",
        "    monitor='val_loss',\n",
        "    save_best_only=True,\n",
        "    save_weights_only=False,\n",
        "    mode='auto',\n",
        "    verbose=1\n",
        ")\n",
        "\n",
        "early_stopping = tf.keras.callbacks.EarlyStopping(\n",
        "    monitor='val_loss',\n",
        "    patience=10,\n",
        "    verbose=1,\n",
        "    restore_best_weights=True,\n",
        ")"
      ]
    },
    {
      "cell_type": "code",
      "execution_count": null,
      "metadata": {
        "id": "Vi86Zl2m7nte"
      },
      "outputs": [],
      "source": [
        "#Train the model\n",
        "history = model.fit(\n",
        "    train_datagen,\n",
        "    epochs=15,\n",
        "    validation_data=test_datagen,\n",
        "    callbacks=[checkpoint,early_stopping])"
      ]
    },
    {
      "cell_type": "code",
      "execution_count": null,
      "metadata": {
        "id": "W5mJoM9hkUtK"
      },
      "outputs": [],
      "source": [
        "plt.plot(history.history['accuracy'])\n",
        "plt.plot(history.history['val_accuracy'])\n",
        "plt.title('Model Performance')\n",
        "plt.xlabel('Epoch')\n",
        "plt.ylabel('Accuracy')\n",
        "plt.legend(['Train', 'Validation'])\n",
        "plt.show()\n"
      ]
    },
    {
      "cell_type": "code",
      "execution_count": null,
      "metadata": {
        "id": "-h_lH7Jlr7gB"
      },
      "outputs": [],
      "source": [
        "uploaded = files.upload()\n",
        "\n",
        "class_labels = ['Glass_ClearGlass', 'Metal_AluminiumCans',\n",
        "                'Paper_Paper', 'Plastic_PET','Textiles_Textiles']\n",
        "\n",
        "'''class_labels = ['AHP_AHP', 'Composite_CompositeFnBCarton', 'Composite_Matresses',\n",
        "                'Glass_BrownGlass', 'Glass_ClearGlass', 'Glass_GreenGlass',\n",
        "                'IronMetal_StainlessSteel', 'IronMetal_Steel', 'Metal_AluminiumCans',\n",
        "                'NonIronMetal_AlumuniumNonCan', 'NonIronMetal_Wiring', 'Paper_Cardboard',\n",
        "                'Paper_Paper', 'Plastic_HDPEM', 'Plastic_PET', 'Textiles_Footwear',\n",
        "                'Textiles_Textiles'] '''#Original complete version\n",
        "\n",
        "for fn in uploaded.keys():\n",
        "    # Predicting images\n",
        "    path = fn\n",
        "    img = load_img(path, target_size=(224, 224))\n",
        "    x = img_to_array(img)\n",
        "    x = np.expand_dims(x, axis=0)\n",
        "\n",
        "    images = np.vstack([x])\n",
        "    predictions = model.predict(images, batch_size=10)\n",
        "    predicted_class_index = np.argmax(predictions[0])\n",
        "    predicted_label = class_labels[predicted_class_index]\n",
        "\n",
        "    print(\"Filename:\", fn)\n",
        "    print(\"Predicted Class:\", predicted_label)\n",
        "    print(\"Prediction Scores:\", predictions[0])"
      ]
    },
    {
      "cell_type": "code",
      "execution_count": null,
      "metadata": {
        "id": "Xx0_oF8LnoqX"
      },
      "outputs": [],
      "source": [
        "#generate saved model\n",
        "export_dir = 'saved_model/1'\n",
        "\n",
        "tf.saved_model.save(model, export_dir)"
      ]
    },
    {
      "cell_type": "code",
      "source": [
        "model.save('model.h5')"
      ],
      "metadata": {
        "id": "0jGs7_hlCyR9"
      },
      "execution_count": null,
      "outputs": []
    },
    {
      "cell_type": "code",
      "execution_count": null,
      "metadata": {
        "id": "1ehOCkcepdq6"
      },
      "outputs": [],
      "source": [
        "#convert savedmodel to TFLite\n",
        "converter = tf.lite.TFLiteConverter.from_saved_model(export_dir)\n",
        "\n",
        "converter.optimizations = [tf.lite.Optimize.DEFAULT]\n",
        "\n",
        "tflite_model = converter.convert()"
      ]
    },
    {
      "cell_type": "code",
      "execution_count": null,
      "metadata": {
        "id": "DF0V5OedrFVd"
      },
      "outputs": [],
      "source": [
        "import pathlib\n",
        "\n",
        "tflite_model_file = pathlib.Path('./model.tflite')\n",
        "tflite_model_file.write_bytes(tflite_model)"
      ]
    },
    {
      "cell_type": "code",
      "execution_count": null,
      "metadata": {
        "id": "1ViWONforjzD"
      },
      "outputs": [],
      "source": [
        "#download TFLite model\n",
        "try:\n",
        "    from google.colab import files\n",
        "    files.download(tflite_model_file)\n",
        "except:\n",
        "    pass"
      ]
    },
    {
      "cell_type": "code",
      "execution_count": null,
      "metadata": {
        "id": "6MiKU3Pxk27R"
      },
      "outputs": [],
      "source": []
    }
  ],
  "metadata": {
    "accelerator": "GPU",
    "colab": {
      "provenance": []
    },
    "kernelspec": {
      "display_name": "Python 3",
      "name": "python3"
    },
    "language_info": {
      "name": "python"
    }
  },
  "nbformat": 4,
  "nbformat_minor": 0
}