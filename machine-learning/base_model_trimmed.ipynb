{
  "cells": [
    {
      "cell_type": "code",
      "execution_count": 5,
      "metadata": {
        "id": "GNOhPExYz39o",
        "colab": {
          "base_uri": "https://localhost:8080/"
        },
        "outputId": "fe3dbb63-65ee-4ae0-f527-162629c2418e"
      },
      "outputs": [
        {
          "output_type": "stream",
          "name": "stdout",
          "text": [
            "Drive already mounted at /content/gdrive; to attempt to forcibly remount, call drive.mount(\"/content/gdrive\", force_remount=True).\n"
          ]
        }
      ],
      "source": [
        "from google.colab import drive\n",
        "drive.mount('/content/gdrive')"
      ]
    },
    {
      "cell_type": "code",
      "execution_count": 25,
      "metadata": {
        "id": "7PCduKLTjfOL"
      },
      "outputs": [],
      "source": [
        "import tensorflow as tf\n",
        "import numpy as np\n",
        "from tensorflow.keras.preprocessing.image import ImageDataGenerator\n",
        "import os \n",
        "import cv2\n",
        "import random\n",
        "import matplotlib.pyplot as plt\n",
        "from google.colab import files\n",
        "from tensorflow.keras.utils import load_img, img_to_array\n",
        "import pathlib"
      ]
    },
    {
      "cell_type": "code",
      "execution_count": 7,
      "metadata": {
        "id": "jUk9s-1bunez",
        "colab": {
          "base_uri": "https://localhost:8080/"
        },
        "outputId": "aae3a4e3-79fe-4898-851d-660b701c19ba"
      },
      "outputs": [
        {
          "output_type": "stream",
          "name": "stdout",
          "text": [
            "Archive:  /content/gdrive/MyDrive/bangkit/model/DatasetV2Trimmed5.zip\n",
            "replace DatasetV2Trimmed5/Glass_ClearGlass/white-glass1.jpg? [y]es, [n]o, [A]ll, [N]one, [r]ename: "
          ]
        }
      ],
      "source": [
        "#!unzip /content/gdrive/MyDrive/bangkit/model/DatasetV2Trimmed5.zip\n",
        "!unzip /content/gdrive/MyDrive/bangkit/model/DatasetV2Trimmed5.zip"
      ]
    },
    {
      "cell_type": "code",
      "execution_count": 11,
      "metadata": {
        "id": "45aNF0khrsjV",
        "colab": {
          "base_uri": "https://localhost:8080/"
        },
        "outputId": "29821e1f-7aa7-4619-fcea-267130cf77de"
      },
      "outputs": [
        {
          "output_type": "execute_result",
          "data": {
            "text/plain": [
              "['Glass_ClearGlass',\n",
              " 'Textiles_Textiles',\n",
              " 'Metal_AluminiumCans',\n",
              " 'Paper_Paper',\n",
              " 'Plastic_PET']"
            ]
          },
          "metadata": {},
          "execution_count": 11
        }
      ],
      "source": [
        "base_dir=\"/content/DatasetV2Trimmed5\"\n",
        "os.listdir('/content/DatasetV2Trimmed5')"
      ]
    },
    {
      "cell_type": "code",
      "execution_count": 12,
      "metadata": {
        "id": "rU1Y52KOp196",
        "colab": {
          "base_uri": "https://localhost:8080/"
        },
        "outputId": "f9d6e862-1367-41da-f538-9222ad0a55ac"
      },
      "outputs": [
        {
          "output_type": "stream",
          "name": "stdout",
          "text": [
            "Found 6796 images belonging to 5 classes.\n",
            "Found 678 images belonging to 5 classes.\n"
          ]
        }
      ],
      "source": [
        "IMAGE_SIZE=224\n",
        "BATCH_SIZE=50\n",
        "\n",
        "train_datagen=tf.keras.preprocessing.image.ImageDataGenerator(\n",
        "    rescale=1./255,\n",
        "    shear_range=0.2,\n",
        "    horizontal_flip=True,\n",
        ")\n",
        "\n",
        "test_datagen=tf.keras.preprocessing.image.ImageDataGenerator(\n",
        "    rescale=1./255,\n",
        "    validation_split=0.1\n",
        ")\n",
        "\n",
        "train_datagen=train_datagen.flow_from_directory(\n",
        "    base_dir,\n",
        "    target_size=(IMAGE_SIZE,IMAGE_SIZE),\n",
        "    batch_size=BATCH_SIZE,\n",
        "    subset='training'\n",
        ")\n",
        "\n",
        "test_datagen=test_datagen.flow_from_directory(\n",
        "    base_dir,\n",
        "    target_size=(IMAGE_SIZE,IMAGE_SIZE),\n",
        "    batch_size=BATCH_SIZE,\n",
        "    subset='validation'\n",
        "  \n",
        ")\n"
      ]
    },
    {
      "cell_type": "code",
      "execution_count": 13,
      "metadata": {
        "id": "MmENMzh6MppL",
        "colab": {
          "base_uri": "https://localhost:8080/"
        },
        "outputId": "8eb3731c-5f4b-42e9-a9e7-259028d226eb"
      },
      "outputs": [
        {
          "output_type": "stream",
          "name": "stdout",
          "text": [
            "Class Indices: {'Glass_ClearGlass': 0, 'Metal_AluminiumCans': 1, 'Paper_Paper': 2, 'Plastic_PET': 3, 'Textiles_Textiles': 4}\n",
            "Class Labels: ['Glass_ClearGlass', 'Metal_AluminiumCans', 'Paper_Paper', 'Plastic_PET', 'Textiles_Textiles']\n"
          ]
        }
      ],
      "source": [
        "class_indices = train_datagen.class_indices\n",
        "class_labels = list(class_indices.keys())\n",
        "\n",
        "print(\"Class Indices:\", class_indices)\n",
        "print(\"Class Labels:\", class_labels)"
      ]
    },
    {
      "cell_type": "code",
      "execution_count": 14,
      "metadata": {
        "id": "V9qgI-0O7lke",
        "colab": {
          "base_uri": "https://localhost:8080/"
        },
        "outputId": "6665ecd6-2372-4113-a6da-86b6fe84c43f"
      },
      "outputs": [
        {
          "output_type": "stream",
          "name": "stdout",
          "text": [
            "Model: \"sequential\"\n",
            "_________________________________________________________________\n",
            " Layer (type)                Output Shape              Param #   \n",
            "=================================================================\n",
            " conv2d (Conv2D)             (None, 222, 222, 32)      896       \n",
            "                                                                 \n",
            " max_pooling2d (MaxPooling2D  (None, 111, 111, 32)     0         \n",
            " )                                                               \n",
            "                                                                 \n",
            " conv2d_1 (Conv2D)           (None, 109, 109, 64)      18496     \n",
            "                                                                 \n",
            " max_pooling2d_1 (MaxPooling  (None, 54, 54, 64)       0         \n",
            " 2D)                                                             \n",
            "                                                                 \n",
            " conv2d_2 (Conv2D)           (None, 52, 52, 128)       73856     \n",
            "                                                                 \n",
            " max_pooling2d_2 (MaxPooling  (None, 26, 26, 128)      0         \n",
            " 2D)                                                             \n",
            "                                                                 \n",
            " global_average_pooling2d (G  (None, 128)              0         \n",
            " lobalAveragePooling2D)                                          \n",
            "                                                                 \n",
            " dropout (Dropout)           (None, 128)               0         \n",
            "                                                                 \n",
            " flatten (Flatten)           (None, 128)               0         \n",
            "                                                                 \n",
            " dense (Dense)               (None, 128)               16512     \n",
            "                                                                 \n",
            " dense_1 (Dense)             (None, 5)                 645       \n",
            "                                                                 \n",
            "=================================================================\n",
            "Total params: 110,405\n",
            "Trainable params: 110,405\n",
            "Non-trainable params: 0\n",
            "_________________________________________________________________\n"
          ]
        }
      ],
      "source": [
        "#Will do transfer learning from Xception\n",
        "\n",
        "model = tf.keras.models.Sequential([\n",
        "    tf.keras.layers.Conv2D(32, (3, 3), activation='relu', input_shape=(224, 224, 3)),\n",
        "    tf.keras.layers.MaxPooling2D((2, 2)),\n",
        "    tf.keras.layers.Conv2D(64, (3, 3), activation='relu'),\n",
        "    tf.keras.layers.MaxPooling2D((2, 2)),\n",
        "    tf.keras.layers.Conv2D(128, (3, 3), activation='relu'),\n",
        "    tf.keras.layers.MaxPooling2D((2, 2)),\n",
        "    tf.keras.layers.GlobalAveragePooling2D(),\n",
        "    tf.keras.layers.Dropout(0.5),\n",
        "    tf.keras.layers.Flatten(),\n",
        "    tf.keras.layers.Dense(128, activation='relu'),\n",
        "    tf.keras.layers.Dense(5, activation='softmax') #Change this according to number of classes\n",
        "])\n",
        "\n",
        "model.compile(optimizer='adam',\n",
        "              loss='categorical_crossentropy',\n",
        "              metrics=['accuracy'])\n",
        "\n",
        "model.summary()"
      ]
    },
    {
      "cell_type": "code",
      "source": [
        "#callbacks\n",
        "checkpoint = tf.keras.callbacks.ModelCheckpoint(\n",
        "    'model_checkpoint,h5',\n",
        "    monitor='val_loss',\n",
        "    save_best_only=True,\n",
        "    save_weights_only=False,\n",
        "    mode='auto',\n",
        "    verbose=1\n",
        ")\n",
        "\n",
        "early_stopping = tf.keras.callbacks.EarlyStopping(\n",
        "    monitor='val_loss',\n",
        "    patience=10,\n",
        "    verbose=1,\n",
        "    restore_best_weights=True,\n",
        ")"
      ],
      "metadata": {
        "id": "DaLPBlkejUif"
      },
      "execution_count": 15,
      "outputs": []
    },
    {
      "cell_type": "code",
      "execution_count": 16,
      "metadata": {
        "id": "Vi86Zl2m7nte",
        "colab": {
          "base_uri": "https://localhost:8080/"
        },
        "outputId": "8116c477-b27e-46b7-dd55-497b8ee68339"
      },
      "outputs": [
        {
          "output_type": "stream",
          "name": "stdout",
          "text": [
            "Epoch 1/40\n",
            "136/136 [==============================] - ETA: 0s - loss: 1.2984 - accuracy: 0.4432\n",
            "Epoch 1: val_loss improved from inf to 1.18348, saving model to model_checkpoint,h5\n"
          ]
        },
        {
          "output_type": "stream",
          "name": "stderr",
          "text": [
            "WARNING:absl:Found untraced functions such as _jit_compiled_convolution_op, _jit_compiled_convolution_op, _jit_compiled_convolution_op while saving (showing 3 of 3). These functions will not be directly callable after loading.\n"
          ]
        },
        {
          "output_type": "stream",
          "name": "stdout",
          "text": [
            "\b\b\b\b\b\b\b\b\b\b\b\b\b\b\b\b\b\b\b\b\b\b\b\b\b\b\b\b\b\b\b\b\b\b\b\b\b\b\b\b\b\b\b\b\b\b\b\b\b\b\b\b\b\b\b\b\b\b\b\b\b\b\b\b\b\b\b\b\b\b\b\b\b\b\b\b\b\b\b\b\b\b\b\b\r136/136 [==============================] - 215s 1s/step - loss: 1.2984 - accuracy: 0.4432 - val_loss: 1.1835 - val_accuracy: 0.5059\n",
            "Epoch 2/40\n",
            "136/136 [==============================] - ETA: 0s - loss: 0.9867 - accuracy: 0.5915\n",
            "Epoch 2: val_loss improved from 1.18348 to 0.88165, saving model to model_checkpoint,h5\n"
          ]
        },
        {
          "output_type": "stream",
          "name": "stderr",
          "text": [
            "WARNING:absl:Found untraced functions such as _jit_compiled_convolution_op, _jit_compiled_convolution_op, _jit_compiled_convolution_op while saving (showing 3 of 3). These functions will not be directly callable after loading.\n"
          ]
        },
        {
          "output_type": "stream",
          "name": "stdout",
          "text": [
            "\b\b\b\b\b\b\b\b\b\b\b\b\b\b\b\b\b\b\b\b\b\b\b\b\b\b\b\b\b\b\b\b\b\b\b\b\b\b\b\b\b\b\b\b\b\b\b\b\b\b\b\b\b\b\b\b\b\b\b\b\b\b\b\b\b\b\b\b\b\b\b\b\b\b\b\b\b\b\b\b\b\b\b\b\r136/136 [==============================] - 197s 1s/step - loss: 0.9867 - accuracy: 0.5915 - val_loss: 0.8816 - val_accuracy: 0.6121\n",
            "Epoch 3/40\n",
            "136/136 [==============================] - ETA: 0s - loss: 0.8623 - accuracy: 0.6460\n",
            "Epoch 3: val_loss improved from 0.88165 to 0.76854, saving model to model_checkpoint,h5\n"
          ]
        },
        {
          "output_type": "stream",
          "name": "stderr",
          "text": [
            "WARNING:absl:Found untraced functions such as _jit_compiled_convolution_op, _jit_compiled_convolution_op, _jit_compiled_convolution_op while saving (showing 3 of 3). These functions will not be directly callable after loading.\n"
          ]
        },
        {
          "output_type": "stream",
          "name": "stdout",
          "text": [
            "\b\b\b\b\b\b\b\b\b\b\b\b\b\b\b\b\b\b\b\b\b\b\b\b\b\b\b\b\b\b\b\b\b\b\b\b\b\b\b\b\b\b\b\b\b\b\b\b\b\b\b\b\b\b\b\b\b\b\b\b\b\b\b\b\b\b\b\b\b\b\b\b\b\b\b\b\b\b\b\b\b\b\b\b\r136/136 [==============================] - 194s 1s/step - loss: 0.8623 - accuracy: 0.6460 - val_loss: 0.7685 - val_accuracy: 0.7094\n",
            "Epoch 4/40\n",
            "136/136 [==============================] - ETA: 0s - loss: 0.7961 - accuracy: 0.6801\n",
            "Epoch 4: val_loss did not improve from 0.76854\n",
            "136/136 [==============================] - 194s 1s/step - loss: 0.7961 - accuracy: 0.6801 - val_loss: 0.7883 - val_accuracy: 0.6652\n",
            "Epoch 5/40\n",
            "136/136 [==============================] - ETA: 0s - loss: 0.7477 - accuracy: 0.7009\n",
            "Epoch 5: val_loss improved from 0.76854 to 0.69925, saving model to model_checkpoint,h5\n"
          ]
        },
        {
          "output_type": "stream",
          "name": "stderr",
          "text": [
            "WARNING:absl:Found untraced functions such as _jit_compiled_convolution_op, _jit_compiled_convolution_op, _jit_compiled_convolution_op while saving (showing 3 of 3). These functions will not be directly callable after loading.\n"
          ]
        },
        {
          "output_type": "stream",
          "name": "stdout",
          "text": [
            "\b\b\b\b\b\b\b\b\b\b\b\b\b\b\b\b\b\b\b\b\b\b\b\b\b\b\b\b\b\b\b\b\b\b\b\b\b\b\b\b\b\b\b\b\b\b\b\b\b\b\b\b\b\b\b\b\b\b\b\b\b\b\b\b\b\b\b\b\b\b\b\b\b\b\b\b\b\b\b\b\b\b\b\b\r136/136 [==============================] - 193s 1s/step - loss: 0.7477 - accuracy: 0.7009 - val_loss: 0.6993 - val_accuracy: 0.7183\n",
            "Epoch 6/40\n",
            "136/136 [==============================] - ETA: 0s - loss: 0.7192 - accuracy: 0.7095\n",
            "Epoch 6: val_loss improved from 0.69925 to 0.69328, saving model to model_checkpoint,h5\n"
          ]
        },
        {
          "output_type": "stream",
          "name": "stderr",
          "text": [
            "WARNING:absl:Found untraced functions such as _jit_compiled_convolution_op, _jit_compiled_convolution_op, _jit_compiled_convolution_op while saving (showing 3 of 3). These functions will not be directly callable after loading.\n"
          ]
        },
        {
          "output_type": "stream",
          "name": "stdout",
          "text": [
            "\b\b\b\b\b\b\b\b\b\b\b\b\b\b\b\b\b\b\b\b\b\b\b\b\b\b\b\b\b\b\b\b\b\b\b\b\b\b\b\b\b\b\b\b\b\b\b\b\b\b\b\b\b\b\b\b\b\b\b\b\b\b\b\b\b\b\b\b\b\b\b\b\b\b\b\b\b\b\b\b\b\b\b\b\r136/136 [==============================] - 194s 1s/step - loss: 0.7192 - accuracy: 0.7095 - val_loss: 0.6933 - val_accuracy: 0.6858\n",
            "Epoch 7/40\n",
            "136/136 [==============================] - ETA: 0s - loss: 0.6736 - accuracy: 0.7331\n",
            "Epoch 7: val_loss improved from 0.69328 to 0.67029, saving model to model_checkpoint,h5\n"
          ]
        },
        {
          "output_type": "stream",
          "name": "stderr",
          "text": [
            "WARNING:absl:Found untraced functions such as _jit_compiled_convolution_op, _jit_compiled_convolution_op, _jit_compiled_convolution_op while saving (showing 3 of 3). These functions will not be directly callable after loading.\n"
          ]
        },
        {
          "output_type": "stream",
          "name": "stdout",
          "text": [
            "\b\b\b\b\b\b\b\b\b\b\b\b\b\b\b\b\b\b\b\b\b\b\b\b\b\b\b\b\b\b\b\b\b\b\b\b\b\b\b\b\b\b\b\b\b\b\b\b\b\b\b\b\b\b\b\b\b\b\b\b\b\b\b\b\b\b\b\b\b\b\b\b\b\b\b\b\b\b\b\b\b\b\b\b\r136/136 [==============================] - 197s 1s/step - loss: 0.6736 - accuracy: 0.7331 - val_loss: 0.6703 - val_accuracy: 0.7404\n",
            "Epoch 8/40\n",
            "136/136 [==============================] - ETA: 0s - loss: 0.7471 - accuracy: 0.7063\n",
            "Epoch 8: val_loss improved from 0.67029 to 0.62411, saving model to model_checkpoint,h5\n"
          ]
        },
        {
          "output_type": "stream",
          "name": "stderr",
          "text": [
            "WARNING:absl:Found untraced functions such as _jit_compiled_convolution_op, _jit_compiled_convolution_op, _jit_compiled_convolution_op while saving (showing 3 of 3). These functions will not be directly callable after loading.\n"
          ]
        },
        {
          "output_type": "stream",
          "name": "stdout",
          "text": [
            "\b\b\b\b\b\b\b\b\b\b\b\b\b\b\b\b\b\b\b\b\b\b\b\b\b\b\b\b\b\b\b\b\b\b\b\b\b\b\b\b\b\b\b\b\b\b\b\b\b\b\b\b\b\b\b\b\b\b\b\b\b\b\b\b\b\b\b\b\b\b\b\b\b\b\b\b\b\b\b\b\b\b\b\b\r136/136 [==============================] - 198s 1s/step - loss: 0.7471 - accuracy: 0.7063 - val_loss: 0.6241 - val_accuracy: 0.7861\n",
            "Epoch 9/40\n",
            "136/136 [==============================] - ETA: 0s - loss: 0.6531 - accuracy: 0.7456\n",
            "Epoch 9: val_loss improved from 0.62411 to 0.56499, saving model to model_checkpoint,h5\n"
          ]
        },
        {
          "output_type": "stream",
          "name": "stderr",
          "text": [
            "WARNING:absl:Found untraced functions such as _jit_compiled_convolution_op, _jit_compiled_convolution_op, _jit_compiled_convolution_op while saving (showing 3 of 3). These functions will not be directly callable after loading.\n"
          ]
        },
        {
          "output_type": "stream",
          "name": "stdout",
          "text": [
            "\b\b\b\b\b\b\b\b\b\b\b\b\b\b\b\b\b\b\b\b\b\b\b\b\b\b\b\b\b\b\b\b\b\b\b\b\b\b\b\b\b\b\b\b\b\b\b\b\b\b\b\b\b\b\b\b\b\b\b\b\b\b\b\b\b\b\b\b\b\b\b\b\b\b\b\b\b\b\b\b\b\b\b\b\r136/136 [==============================] - 198s 1s/step - loss: 0.6531 - accuracy: 0.7456 - val_loss: 0.5650 - val_accuracy: 0.7758\n",
            "Epoch 10/40\n",
            "136/136 [==============================] - ETA: 0s - loss: 0.6652 - accuracy: 0.7366\n",
            "Epoch 10: val_loss did not improve from 0.56499\n",
            "136/136 [==============================] - 192s 1s/step - loss: 0.6652 - accuracy: 0.7366 - val_loss: 0.6272 - val_accuracy: 0.7212\n",
            "Epoch 11/40\n",
            "136/136 [==============================] - ETA: 0s - loss: 0.5958 - accuracy: 0.7675\n",
            "Epoch 11: val_loss did not improve from 0.56499\n",
            "136/136 [==============================] - 192s 1s/step - loss: 0.5958 - accuracy: 0.7675 - val_loss: 0.6465 - val_accuracy: 0.7316\n",
            "Epoch 12/40\n",
            "136/136 [==============================] - ETA: 0s - loss: 0.5976 - accuracy: 0.7656\n",
            "Epoch 12: val_loss improved from 0.56499 to 0.54083, saving model to model_checkpoint,h5\n"
          ]
        },
        {
          "output_type": "stream",
          "name": "stderr",
          "text": [
            "WARNING:absl:Found untraced functions such as _jit_compiled_convolution_op, _jit_compiled_convolution_op, _jit_compiled_convolution_op while saving (showing 3 of 3). These functions will not be directly callable after loading.\n"
          ]
        },
        {
          "output_type": "stream",
          "name": "stdout",
          "text": [
            "\b\b\b\b\b\b\b\b\b\b\b\b\b\b\b\b\b\b\b\b\b\b\b\b\b\b\b\b\b\b\b\b\b\b\b\b\b\b\b\b\b\b\b\b\b\b\b\b\b\b\b\b\b\b\b\b\b\b\b\b\b\b\b\b\b\b\b\b\b\b\b\b\b\b\b\b\b\b\b\b\b\b\b\b\r136/136 [==============================] - 193s 1s/step - loss: 0.5976 - accuracy: 0.7656 - val_loss: 0.5408 - val_accuracy: 0.7788\n",
            "Epoch 13/40\n",
            "136/136 [==============================] - ETA: 0s - loss: 0.5498 - accuracy: 0.7850\n",
            "Epoch 13: val_loss did not improve from 0.54083\n",
            "136/136 [==============================] - 193s 1s/step - loss: 0.5498 - accuracy: 0.7850 - val_loss: 0.5624 - val_accuracy: 0.7552\n",
            "Epoch 14/40\n",
            "136/136 [==============================] - ETA: 0s - loss: 0.5279 - accuracy: 0.8003\n",
            "Epoch 14: val_loss improved from 0.54083 to 0.48958, saving model to model_checkpoint,h5\n"
          ]
        },
        {
          "output_type": "stream",
          "name": "stderr",
          "text": [
            "WARNING:absl:Found untraced functions such as _jit_compiled_convolution_op, _jit_compiled_convolution_op, _jit_compiled_convolution_op while saving (showing 3 of 3). These functions will not be directly callable after loading.\n"
          ]
        },
        {
          "output_type": "stream",
          "name": "stdout",
          "text": [
            "\b\b\b\b\b\b\b\b\b\b\b\b\b\b\b\b\b\b\b\b\b\b\b\b\b\b\b\b\b\b\b\b\b\b\b\b\b\b\b\b\b\b\b\b\b\b\b\b\b\b\b\b\b\b\b\b\b\b\b\b\b\b\b\b\b\b\b\b\b\b\b\b\b\b\b\b\b\b\b\b\b\b\b\b\r136/136 [==============================] - 192s 1s/step - loss: 0.5279 - accuracy: 0.8003 - val_loss: 0.4896 - val_accuracy: 0.8009\n",
            "Epoch 15/40\n",
            "136/136 [==============================] - ETA: 0s - loss: 0.5139 - accuracy: 0.7983\n",
            "Epoch 15: val_loss did not improve from 0.48958\n",
            "136/136 [==============================] - 190s 1s/step - loss: 0.5139 - accuracy: 0.7983 - val_loss: 0.5989 - val_accuracy: 0.7375\n",
            "Epoch 16/40\n",
            "136/136 [==============================] - ETA: 0s - loss: 0.4924 - accuracy: 0.8106\n",
            "Epoch 16: val_loss improved from 0.48958 to 0.45005, saving model to model_checkpoint,h5\n"
          ]
        },
        {
          "output_type": "stream",
          "name": "stderr",
          "text": [
            "WARNING:absl:Found untraced functions such as _jit_compiled_convolution_op, _jit_compiled_convolution_op, _jit_compiled_convolution_op while saving (showing 3 of 3). These functions will not be directly callable after loading.\n"
          ]
        },
        {
          "output_type": "stream",
          "name": "stdout",
          "text": [
            "\b\b\b\b\b\b\b\b\b\b\b\b\b\b\b\b\b\b\b\b\b\b\b\b\b\b\b\b\b\b\b\b\b\b\b\b\b\b\b\b\b\b\b\b\b\b\b\b\b\b\b\b\b\b\b\b\b\b\b\b\b\b\b\b\b\b\b\b\b\b\b\b\b\b\b\b\b\b\b\b\b\b\b\b\r136/136 [==============================] - 192s 1s/step - loss: 0.4924 - accuracy: 0.8106 - val_loss: 0.4500 - val_accuracy: 0.8304\n",
            "Epoch 17/40\n",
            "136/136 [==============================] - ETA: 0s - loss: 0.4915 - accuracy: 0.8103\n",
            "Epoch 17: val_loss did not improve from 0.45005\n",
            "136/136 [==============================] - 195s 1s/step - loss: 0.4915 - accuracy: 0.8103 - val_loss: 0.5012 - val_accuracy: 0.7817\n",
            "Epoch 18/40\n",
            "136/136 [==============================] - ETA: 0s - loss: 0.4718 - accuracy: 0.8156\n",
            "Epoch 18: val_loss did not improve from 0.45005\n",
            "136/136 [==============================] - 192s 1s/step - loss: 0.4718 - accuracy: 0.8156 - val_loss: 0.4583 - val_accuracy: 0.8053\n",
            "Epoch 19/40\n",
            "136/136 [==============================] - ETA: 0s - loss: 0.4856 - accuracy: 0.8147\n",
            "Epoch 19: val_loss did not improve from 0.45005\n",
            "136/136 [==============================] - 195s 1s/step - loss: 0.4856 - accuracy: 0.8147 - val_loss: 0.5157 - val_accuracy: 0.7802\n",
            "Epoch 20/40\n",
            "136/136 [==============================] - ETA: 0s - loss: 0.4405 - accuracy: 0.8273\n",
            "Epoch 20: val_loss improved from 0.45005 to 0.37321, saving model to model_checkpoint,h5\n"
          ]
        },
        {
          "output_type": "stream",
          "name": "stderr",
          "text": [
            "WARNING:absl:Found untraced functions such as _jit_compiled_convolution_op, _jit_compiled_convolution_op, _jit_compiled_convolution_op while saving (showing 3 of 3). These functions will not be directly callable after loading.\n"
          ]
        },
        {
          "output_type": "stream",
          "name": "stdout",
          "text": [
            "\b\b\b\b\b\b\b\b\b\b\b\b\b\b\b\b\b\b\b\b\b\b\b\b\b\b\b\b\b\b\b\b\b\b\b\b\b\b\b\b\b\b\b\b\b\b\b\b\b\b\b\b\b\b\b\b\b\b\b\b\b\b\b\b\b\b\b\b\b\b\b\b\b\b\b\b\b\b\b\b\b\b\b\b\r136/136 [==============================] - 190s 1s/step - loss: 0.4405 - accuracy: 0.8273 - val_loss: 0.3732 - val_accuracy: 0.8687\n",
            "Epoch 21/40\n",
            "136/136 [==============================] - ETA: 0s - loss: 0.4494 - accuracy: 0.8265\n",
            "Epoch 21: val_loss did not improve from 0.37321\n",
            "136/136 [==============================] - 191s 1s/step - loss: 0.4494 - accuracy: 0.8265 - val_loss: 0.4807 - val_accuracy: 0.8024\n",
            "Epoch 22/40\n",
            "136/136 [==============================] - ETA: 0s - loss: 0.4258 - accuracy: 0.8414\n",
            "Epoch 22: val_loss did not improve from 0.37321\n",
            "136/136 [==============================] - 190s 1s/step - loss: 0.4258 - accuracy: 0.8414 - val_loss: 0.4460 - val_accuracy: 0.8422\n",
            "Epoch 23/40\n",
            "136/136 [==============================] - ETA: 0s - loss: 0.4288 - accuracy: 0.8402\n",
            "Epoch 23: val_loss did not improve from 0.37321\n",
            "136/136 [==============================] - 191s 1s/step - loss: 0.4288 - accuracy: 0.8402 - val_loss: 0.4102 - val_accuracy: 0.8363\n",
            "Epoch 24/40\n",
            "136/136 [==============================] - ETA: 0s - loss: 0.4311 - accuracy: 0.8351\n",
            "Epoch 24: val_loss did not improve from 0.37321\n",
            "136/136 [==============================] - 190s 1s/step - loss: 0.4311 - accuracy: 0.8351 - val_loss: 0.4494 - val_accuracy: 0.8024\n",
            "Epoch 25/40\n",
            "136/136 [==============================] - ETA: 0s - loss: 0.4028 - accuracy: 0.8474\n",
            "Epoch 25: val_loss improved from 0.37321 to 0.36912, saving model to model_checkpoint,h5\n"
          ]
        },
        {
          "output_type": "stream",
          "name": "stderr",
          "text": [
            "WARNING:absl:Found untraced functions such as _jit_compiled_convolution_op, _jit_compiled_convolution_op, _jit_compiled_convolution_op while saving (showing 3 of 3). These functions will not be directly callable after loading.\n"
          ]
        },
        {
          "output_type": "stream",
          "name": "stdout",
          "text": [
            "\b\b\b\b\b\b\b\b\b\b\b\b\b\b\b\b\b\b\b\b\b\b\b\b\b\b\b\b\b\b\b\b\b\b\b\b\b\b\b\b\b\b\b\b\b\b\b\b\b\b\b\b\b\b\b\b\b\b\b\b\b\b\b\b\b\b\b\b\b\b\b\b\b\b\b\b\b\b\b\b\b\b\b\b\r136/136 [==============================] - 196s 1s/step - loss: 0.4028 - accuracy: 0.8474 - val_loss: 0.3691 - val_accuracy: 0.8437\n",
            "Epoch 26/40\n",
            "136/136 [==============================] - ETA: 0s - loss: 0.3875 - accuracy: 0.8579\n",
            "Epoch 26: val_loss did not improve from 0.36912\n",
            "136/136 [==============================] - 195s 1s/step - loss: 0.3875 - accuracy: 0.8579 - val_loss: 0.3935 - val_accuracy: 0.8201\n",
            "Epoch 27/40\n",
            "136/136 [==============================] - ETA: 0s - loss: 0.3857 - accuracy: 0.8574\n",
            "Epoch 27: val_loss improved from 0.36912 to 0.33454, saving model to model_checkpoint,h5\n"
          ]
        },
        {
          "output_type": "stream",
          "name": "stderr",
          "text": [
            "WARNING:absl:Found untraced functions such as _jit_compiled_convolution_op, _jit_compiled_convolution_op, _jit_compiled_convolution_op while saving (showing 3 of 3). These functions will not be directly callable after loading.\n"
          ]
        },
        {
          "output_type": "stream",
          "name": "stdout",
          "text": [
            "\b\b\b\b\b\b\b\b\b\b\b\b\b\b\b\b\b\b\b\b\b\b\b\b\b\b\b\b\b\b\b\b\b\b\b\b\b\b\b\b\b\b\b\b\b\b\b\b\b\b\b\b\b\b\b\b\b\b\b\b\b\b\b\b\b\b\b\b\b\b\b\b\b\b\b\b\b\b\b\b\b\b\b\b\r136/136 [==============================] - 195s 1s/step - loss: 0.3857 - accuracy: 0.8574 - val_loss: 0.3345 - val_accuracy: 0.8746\n",
            "Epoch 28/40\n",
            "136/136 [==============================] - ETA: 0s - loss: 0.3849 - accuracy: 0.8517\n",
            "Epoch 28: val_loss did not improve from 0.33454\n",
            "136/136 [==============================] - 194s 1s/step - loss: 0.3849 - accuracy: 0.8517 - val_loss: 0.4059 - val_accuracy: 0.8112\n",
            "Epoch 29/40\n",
            "136/136 [==============================] - ETA: 0s - loss: 0.3671 - accuracy: 0.8620\n",
            "Epoch 29: val_loss did not improve from 0.33454\n",
            "136/136 [==============================] - 194s 1s/step - loss: 0.3671 - accuracy: 0.8620 - val_loss: 0.3519 - val_accuracy: 0.8909\n",
            "Epoch 30/40\n",
            "136/136 [==============================] - ETA: 0s - loss: 0.3724 - accuracy: 0.8609\n",
            "Epoch 30: val_loss improved from 0.33454 to 0.32957, saving model to model_checkpoint,h5\n"
          ]
        },
        {
          "output_type": "stream",
          "name": "stderr",
          "text": [
            "WARNING:absl:Found untraced functions such as _jit_compiled_convolution_op, _jit_compiled_convolution_op, _jit_compiled_convolution_op while saving (showing 3 of 3). These functions will not be directly callable after loading.\n"
          ]
        },
        {
          "output_type": "stream",
          "name": "stdout",
          "text": [
            "\b\b\b\b\b\b\b\b\b\b\b\b\b\b\b\b\b\b\b\b\b\b\b\b\b\b\b\b\b\b\b\b\b\b\b\b\b\b\b\b\b\b\b\b\b\b\b\b\b\b\b\b\b\b\b\b\b\b\b\b\b\b\b\b\b\b\b\b\b\b\b\b\b\b\b\b\b\b\b\b\b\b\b\b\r136/136 [==============================] - 202s 1s/step - loss: 0.3724 - accuracy: 0.8609 - val_loss: 0.3296 - val_accuracy: 0.8717\n",
            "Epoch 31/40\n",
            "136/136 [==============================] - ETA: 0s - loss: 0.3586 - accuracy: 0.8643\n",
            "Epoch 31: val_loss improved from 0.32957 to 0.30630, saving model to model_checkpoint,h5\n"
          ]
        },
        {
          "output_type": "stream",
          "name": "stderr",
          "text": [
            "WARNING:absl:Found untraced functions such as _jit_compiled_convolution_op, _jit_compiled_convolution_op, _jit_compiled_convolution_op while saving (showing 3 of 3). These functions will not be directly callable after loading.\n"
          ]
        },
        {
          "output_type": "stream",
          "name": "stdout",
          "text": [
            "\b\b\b\b\b\b\b\b\b\b\b\b\b\b\b\b\b\b\b\b\b\b\b\b\b\b\b\b\b\b\b\b\b\b\b\b\b\b\b\b\b\b\b\b\b\b\b\b\b\b\b\b\b\b\b\b\b\b\b\b\b\b\b\b\b\b\b\b\b\b\b\b\b\b\b\b\b\b\b\b\b\b\b\b\r136/136 [==============================] - 195s 1s/step - loss: 0.3586 - accuracy: 0.8643 - val_loss: 0.3063 - val_accuracy: 0.8850\n",
            "Epoch 32/40\n",
            "136/136 [==============================] - ETA: 0s - loss: 0.3558 - accuracy: 0.8661\n",
            "Epoch 32: val_loss did not improve from 0.30630\n",
            "136/136 [==============================] - 195s 1s/step - loss: 0.3558 - accuracy: 0.8661 - val_loss: 0.3194 - val_accuracy: 0.8687\n",
            "Epoch 33/40\n",
            "136/136 [==============================] - ETA: 0s - loss: 0.3419 - accuracy: 0.8743\n",
            "Epoch 33: val_loss did not improve from 0.30630\n",
            "136/136 [==============================] - 193s 1s/step - loss: 0.3419 - accuracy: 0.8743 - val_loss: 0.3291 - val_accuracy: 0.8643\n",
            "Epoch 34/40\n",
            "136/136 [==============================] - ETA: 0s - loss: 0.3484 - accuracy: 0.8710\n",
            "Epoch 34: val_loss did not improve from 0.30630\n",
            "136/136 [==============================] - 193s 1s/step - loss: 0.3484 - accuracy: 0.8710 - val_loss: 0.3148 - val_accuracy: 0.8673\n",
            "Epoch 35/40\n",
            "136/136 [==============================] - ETA: 0s - loss: 0.3500 - accuracy: 0.8727\n",
            "Epoch 35: val_loss did not improve from 0.30630\n",
            "136/136 [==============================] - 192s 1s/step - loss: 0.3500 - accuracy: 0.8727 - val_loss: 0.3865 - val_accuracy: 0.8274\n",
            "Epoch 36/40\n",
            "136/136 [==============================] - ETA: 0s - loss: 0.3266 - accuracy: 0.8761\n",
            "Epoch 36: val_loss did not improve from 0.30630\n",
            "136/136 [==============================] - 201s 1s/step - loss: 0.3266 - accuracy: 0.8761 - val_loss: 0.3071 - val_accuracy: 0.8717\n",
            "Epoch 37/40\n",
            "136/136 [==============================] - ETA: 0s - loss: 0.3225 - accuracy: 0.8795\n",
            "Epoch 37: val_loss did not improve from 0.30630\n",
            "136/136 [==============================] - 194s 1s/step - loss: 0.3225 - accuracy: 0.8795 - val_loss: 0.3222 - val_accuracy: 0.8540\n",
            "Epoch 38/40\n",
            "136/136 [==============================] - ETA: 0s - loss: 0.3263 - accuracy: 0.8793\n",
            "Epoch 38: val_loss improved from 0.30630 to 0.27455, saving model to model_checkpoint,h5\n"
          ]
        },
        {
          "output_type": "stream",
          "name": "stderr",
          "text": [
            "WARNING:absl:Found untraced functions such as _jit_compiled_convolution_op, _jit_compiled_convolution_op, _jit_compiled_convolution_op while saving (showing 3 of 3). These functions will not be directly callable after loading.\n"
          ]
        },
        {
          "output_type": "stream",
          "name": "stdout",
          "text": [
            "\b\b\b\b\b\b\b\b\b\b\b\b\b\b\b\b\b\b\b\b\b\b\b\b\b\b\b\b\b\b\b\b\b\b\b\b\b\b\b\b\b\b\b\b\b\b\b\b\b\b\b\b\b\b\b\b\b\b\b\b\b\b\b\b\b\b\b\b\b\b\b\b\b\b\b\b\b\b\b\b\b\b\b\b\r136/136 [==============================] - 195s 1s/step - loss: 0.3263 - accuracy: 0.8793 - val_loss: 0.2746 - val_accuracy: 0.8909\n",
            "Epoch 39/40\n",
            "136/136 [==============================] - ETA: 0s - loss: 0.3180 - accuracy: 0.8826\n",
            "Epoch 39: val_loss improved from 0.27455 to 0.26418, saving model to model_checkpoint,h5\n"
          ]
        },
        {
          "output_type": "stream",
          "name": "stderr",
          "text": [
            "WARNING:absl:Found untraced functions such as _jit_compiled_convolution_op, _jit_compiled_convolution_op, _jit_compiled_convolution_op while saving (showing 3 of 3). These functions will not be directly callable after loading.\n"
          ]
        },
        {
          "output_type": "stream",
          "name": "stdout",
          "text": [
            "\b\b\b\b\b\b\b\b\b\b\b\b\b\b\b\b\b\b\b\b\b\b\b\b\b\b\b\b\b\b\b\b\b\b\b\b\b\b\b\b\b\b\b\b\b\b\b\b\b\b\b\b\b\b\b\b\b\b\b\b\b\b\b\b\b\b\b\b\b\b\b\b\b\b\b\b\b\b\b\b\b\b\b\b\r136/136 [==============================] - 194s 1s/step - loss: 0.3180 - accuracy: 0.8826 - val_loss: 0.2642 - val_accuracy: 0.9056\n",
            "Epoch 40/40\n",
            "136/136 [==============================] - ETA: 0s - loss: 0.3211 - accuracy: 0.8835\n",
            "Epoch 40: val_loss did not improve from 0.26418\n",
            "136/136 [==============================] - 193s 1s/step - loss: 0.3211 - accuracy: 0.8835 - val_loss: 0.3248 - val_accuracy: 0.8673\n"
          ]
        }
      ],
      "source": [
        "history = model.fit(\n",
        "    train_datagen,\n",
        "    epochs=40,\n",
        "    validation_data=test_datagen,\n",
        "    callbacks=[checkpoint, early_stopping])"
      ]
    },
    {
      "cell_type": "code",
      "source": [
        "plt.plot(history.history['accuracy'])\n",
        "plt.plot(history.history['val_accuracy'])\n",
        "plt.title('Model Performance')\n",
        "plt.xlabel('Epoch')\n",
        "plt.ylabel('Accuracy')\n",
        "plt.legend(['Train', 'Validation'])\n",
        "plt.show()\n"
      ],
      "metadata": {
        "id": "W5mJoM9hkUtK",
        "colab": {
          "base_uri": "https://localhost:8080/",
          "height": 472
        },
        "outputId": "23db2e50-1c87-46cf-8d3b-073e5ae3625c"
      },
      "execution_count": 17,
      "outputs": [
        {
          "output_type": "display_data",
          "data": {
            "text/plain": [
              "<Figure size 640x480 with 1 Axes>"
            ],
            "image/png": "[encoded data removed]"
          },
          "metadata": {}
        }
      ]
    },
    {
      "cell_type": "code",
      "execution_count": 20,
      "metadata": {
        "id": "-h_lH7Jlr7gB",
        "colab": {
          "base_uri": "https://localhost:8080/",
          "height": 535
        },
        "outputId": "e3ff6128-a7a4-47c0-9b9e-593038fab91a"
      },
      "outputs": [
        {
          "output_type": "display_data",
          "data": {
            "text/plain": [
              "<IPython.core.display.HTML object>"
            ],
            "text/html": [
              "\n",
              "     <input type=\"file\" id=\"files-16d24101-9efc-4bc6-8cc0-46a493023501\" name=\"files[]\" multiple disabled\n",
              "        style=\"border:none\" />\n",
              "     <output id=\"result-16d24101-9efc-4bc6-8cc0-46a493023501\">\n",
              "      Upload widget is only available when the cell has been executed in the\n",
              "      current browser session. Please rerun this cell to enable.\n",
              "      </output>\n",
              "      <script>// Copyright 2017 Google LLC\n",
              "//\n",
              "// Licensed under the Apache License, Version 2.0 (the \"License\");\n",
              "// you may not use this file except in compliance with the License.\n",
              "// You may obtain a copy of the License at\n",
              "//\n",
              "//      http://www.apache.org/licenses/LICENSE-2.0\n",
              "//\n",
              "// Unless required by applicable law or agreed to in writing, software\n",
              "// distributed under the License is distributed on an \"AS IS\" BASIS,\n",
              "// WITHOUT WARRANTIES OR CONDITIONS OF ANY KIND, either express or implied.\n",
              "// See the License for the specific language governing permissions and\n",
              "// limitations under the License.\n",
              "\n",
              "/**\n",
              " * @fileoverview Helpers for google.colab Python module.\n",
              " */\n",
              "(function(scope) {\n",
              "function span(text, styleAttributes = {}) {\n",
              "  const element = document.createElement('span');\n",
              "  element.textContent = text;\n",
              "  for (const key of Object.keys(styleAttributes)) {\n",
              "    element.style[key] = styleAttributes[key];\n",
              "  }\n",
              "  return element;\n",
              "}\n",
              "\n",
              "// Max number of bytes which will be uploaded at a time.\n",
              "const MAX_PAYLOAD_SIZE = 100 * 1024;\n",
              "\n",
              "function _uploadFiles(inputId, outputId) {\n",
              "  const steps = uploadFilesStep(inputId, outputId);\n",
              "  const outputElement = document.getElementById(outputId);\n",
              "  // Cache steps on the outputElement to make it available for the next call\n",
              "  // to uploadFilesContinue from Python.\n",
              "  outputElement.steps = steps;\n",
              "\n",
              "  return _uploadFilesContinue(outputId);\n",
              "}\n",
              "\n",
              "// This is roughly an async generator (not supported in the browser yet),\n",
              "// where there are multiple asynchronous steps and the Python side is going\n",
              "// to poll for completion of each step.\n",
              "// This uses a Promise to block the python side on completion of each step,\n",
              "// then passes the result of the previous step as the input to the next step.\n",
              "function _uploadFilesContinue(outputId) {\n",
              "  const outputElement = document.getElementById(outputId);\n",
              "  const steps = outputElement.steps;\n",
              "\n",
              "  const next = steps.next(outputElement.lastPromiseValue);\n",
              "  return Promise.resolve(next.value.promise).then((value) => {\n",
              "    // Cache the last promise value to make it available to the next\n",
              "    // step of the generator.\n",
              "    outputElement.lastPromiseValue = value;\n",
              "    return next.value.response;\n",
              "  });\n",
              "}\n",
              "\n",
              "/**\n",
              " * Generator function which is called between each async step of the upload\n",
              " * process.\n",
              " * @param {string} inputId Element ID of the input file picker element.\n",
              " * @param {string} outputId Element ID of the output display.\n",
              " * @return {!Iterable<!Object>} Iterable of next steps.\n",
              " */\n",
              "function* uploadFilesStep(inputId, outputId) {\n",
              "  const inputElement = document.getElementById(inputId);\n",
              "  inputElement.disabled = false;\n",
              "\n",
              "  const outputElement = document.getElementById(outputId);\n",
              "  outputElement.innerHTML = '';\n",
              "\n",
              "  const pickedPromise = new Promise((resolve) => {\n",
              "    inputElement.addEventListener('change', (e) => {\n",
              "      resolve(e.target.files);\n",
              "    });\n",
              "  });\n",
              "\n",
              "  const cancel = document.createElement('button');\n",
              "  inputElement.parentElement.appendChild(cancel);\n",
              "  cancel.textContent = 'Cancel upload';\n",
              "  const cancelPromise = new Promise((resolve) => {\n",
              "    cancel.onclick = () => {\n",
              "      resolve(null);\n",
              "    };\n",
              "  });\n",
              "\n",
              "  // Wait for the user to pick the files.\n",
              "  const files = yield {\n",
              "    promise: Promise.race([pickedPromise, cancelPromise]),\n",
              "    response: {\n",
              "      action: 'starting',\n",
              "    }\n",
              "  };\n",
              "\n",
              "  cancel.remove();\n",
              "\n",
              "  // Disable the input element since further picks are not allowed.\n",
              "  inputElement.disabled = true;\n",
              "\n",
              "  if (!files) {\n",
              "    return {\n",
              "      response: {\n",
              "        action: 'complete',\n",
              "      }\n",
              "    };\n",
              "  }\n",
              "\n",
              "  for (const file of files) {\n",
              "    const li = document.createElement('li');\n",
              "    li.append(span(file.name, {fontWeight: 'bold'}));\n",
              "    li.append(span(\n",
              "        `(${file.type || 'n/a'}) - ${file.size} bytes, ` +\n",
              "        `last modified: ${\n",
              "            file.lastModifiedDate ? file.lastModifiedDate.toLocaleDateString() :\n",
              "                                    'n/a'} - `));\n",
              "    const percent = span('0% done');\n",
              "    li.appendChild(percent);\n",
              "\n",
              "    outputElement.appendChild(li);\n",
              "\n",
              "    const fileDataPromise = new Promise((resolve) => {\n",
              "      const reader = new FileReader();\n",
              "      reader.onload = (e) => {\n",
              "        resolve(e.target.result);\n",
              "      };\n",
              "      reader.readAsArrayBuffer(file);\n",
              "    });\n",
              "    // Wait for the data to be ready.\n",
              "    let fileData = yield {\n",
              "      promise: fileDataPromise,\n",
              "      response: {\n",
              "        action: 'continue',\n",
              "      }\n",
              "    };\n",
              "\n",
              "    // Use a chunked sending to avoid message size limits. See b/62115660.\n",
              "    let position = 0;\n",
              "    do {\n",
              "      const length = Math.min(fileData.byteLength - position, MAX_PAYLOAD_SIZE);\n",
              "      const chunk = new Uint8Array(fileData, position, length);\n",
              "      position += length;\n",
              "\n",
              "      const base64 = btoa(String.fromCharCode.apply(null, chunk));\n",
              "      yield {\n",
              "        response: {\n",
              "          action: 'append',\n",
              "          file: file.name,\n",
              "          data: base64,\n",
              "        },\n",
              "      };\n",
              "\n",
              "      let percentDone = fileData.byteLength === 0 ?\n",
              "          100 :\n",
              "          Math.round((position / fileData.byteLength) * 100);\n",
              "      percent.textContent = `${percentDone}% done`;\n",
              "\n",
              "    } while (position < fileData.byteLength);\n",
              "  }\n",
              "\n",
              "  // All done.\n",
              "  yield {\n",
              "    response: {\n",
              "      action: 'complete',\n",
              "    }\n",
              "  };\n",
              "}\n",
              "\n",
              "scope.google = scope.google || {};\n",
              "scope.google.colab = scope.google.colab || {};\n",
              "scope.google.colab._files = {\n",
              "  _uploadFiles,\n",
              "  _uploadFilesContinue,\n",
              "};\n",
              "})(self);\n",
              "</script> "
            ]
          },
          "metadata": {}
        },
        {
          "output_type": "stream",
          "name": "stdout",
          "text": [
            "Saving image test.png to image test (2).png\n",
            "1/1 [==============================] - 0s 19ms/step\n",
            "Filename: image test.png\n",
            "Predicted Class: Textiles_Textiles\n",
            "Prediction Scores: [0. 0. 0. 0. 1.]\n"
          ]
        },
        {
          "output_type": "display_data",
          "data": {
            "text/plain": [
              "<Figure size 640x480 with 1 Axes>"
            ],
            "image/png": "[encoded data removed]"
          },
          "metadata": {}
        }
      ],
      "source": [
        "uploaded = files.upload()\n",
        "\n",
        "class_labels = ['Glass_ClearGlass', 'Metal_AluminiumCans',\n",
        "                'Paper_Paper', 'Plastic_PET', 'Textiles_Textiles'] \n",
        "\n",
        "'''class_labels = ['AHP_AHP', 'Composite_CompositeFnBCarton', 'Composite_Matresses',\n",
        "                'Glass_BrownGlass', 'Glass_ClearGlass', 'Glass_GreenGlass',\n",
        "                'IronMetal_StainlessSteel', 'IronMetal_Steel', 'Metal_AluminiumCans',\n",
        "                'NonIronMetal_AlumuniumNonCan', 'NonIronMetal_Wiring', 'Paper_Cardboard',\n",
        "                'Paper_Paper', 'Plastic_HDPEM', 'Plastic_PET', 'Textiles_Footwear',\n",
        "                'Textiles_Textiles'] '''#Original complete version\n",
        "\n",
        "for fn in uploaded.keys():\n",
        "    # Predicting images\n",
        "    path = fn\n",
        "    img = load_img(path, target_size=(224, 224))\n",
        "    x = img_to_array(img)\n",
        "    x = np.expand_dims(x, axis=0)\n",
        "\n",
        "    images = np.vstack([x])\n",
        "    predictions = model.predict(images, batch_size=10)\n",
        "    predicted_class_index = np.argmax(predictions[0])\n",
        "    predicted_label = class_labels[predicted_class_index]\n",
        "\n",
        "    print(\"Filename:\", fn)\n",
        "    print(\"Predicted Class:\", predicted_label)\n",
        "    print(\"Prediction Scores:\", predictions[0])\n",
        "\n",
        "    plt.imshow(img)\n",
        "    plt.axis('off')\n",
        "    plt.show()"
      ]
    },
    {
      "cell_type": "code",
      "source": [
        "#generate saved model\n",
        "export_dir = 'saved_model/1'\n",
        "\n",
        "tf.saved_model.save(model, export_dir)"
      ],
      "metadata": {
        "id": "Xx0_oF8LnoqX",
        "colab": {
          "base_uri": "https://localhost:8080/"
        },
        "outputId": "87283633-3e6b-4390-868a-f1aee44839ed"
      },
      "execution_count": 21,
      "outputs": [
        {
          "output_type": "stream",
          "name": "stderr",
          "text": [
            "WARNING:absl:Found untraced functions such as _jit_compiled_convolution_op, _jit_compiled_convolution_op, _jit_compiled_convolution_op while saving (showing 3 of 3). These functions will not be directly callable after loading.\n"
          ]
        }
      ]
    },
    {
      "cell_type": "code",
      "source": [
        "#convert savedmodel to TFLite\n",
        "converter = tf.lite.TFLiteConverter.from_saved_model(export_dir)\n",
        "\n",
        "converter.optimizations = [tf.lite.Optimize.DEFAULT]\n",
        "\n",
        "tflite_model = converter.convert()"
      ],
      "metadata": {
        "id": "1ehOCkcepdq6"
      },
      "execution_count": 22,
      "outputs": []
    },
    {
      "cell_type": "code",
      "source": [
        "tflite_model_file = pathlib.Path('./model.tflite')\n",
        "tflite_model_file.write_bytes(tflite_model)"
      ],
      "metadata": {
        "id": "DF0V5OedrFVd",
        "colab": {
          "base_uri": "https://localhost:8080/"
        },
        "outputId": "77d1c666-e335-4ae9-e4ab-78edc37a0b5c"
      },
      "execution_count": 26,
      "outputs": [
        {
          "output_type": "execute_result",
          "data": {
            "text/plain": [
              "122808"
            ]
          },
          "metadata": {},
          "execution_count": 26
        }
      ]
    },
    {
      "cell_type": "code",
      "source": [
        "#download TFLite model\n",
        "try:\n",
        "    from google.colab import files\n",
        "    files.download(tflite_model_file)\n",
        "except:\n",
        "    pass"
      ],
      "metadata": {
        "id": "1ViWONforjzD",
        "colab": {
          "base_uri": "https://localhost:8080/",
          "height": 17
        },
        "outputId": "62d8e2df-e6b0-4c4e-e9f2-f31cc0aa10ba"
      },
      "execution_count": 27,
      "outputs": [
        {
          "output_type": "display_data",
          "data": {
            "text/plain": [
              "<IPython.core.display.Javascript object>"
            ],
            "application/javascript": [
              "\n",
              "    async function download(id, filename, size) {\n",
              "      if (!google.colab.kernel.accessAllowed) {\n",
              "        return;\n",
              "      }\n",
              "      const div = document.createElement('div');\n",
              "      const label = document.createElement('label');\n",
              "      label.textContent = `Downloading \"${filename}\": `;\n",
              "      div.appendChild(label);\n",
              "      const progress = document.createElement('progress');\n",
              "      progress.max = size;\n",
              "      div.appendChild(progress);\n",
              "      document.body.appendChild(div);\n",
              "\n",
              "      const buffers = [];\n",
              "      let downloaded = 0;\n",
              "\n",
              "      const channel = await google.colab.kernel.comms.open(id);\n",
              "      // Send a message to notify the kernel that we're ready.\n",
              "      channel.send({})\n",
              "\n",
              "      for await (const message of channel.messages) {\n",
              "        // Send a message to notify the kernel that we're ready.\n",
              "        channel.send({})\n",
              "        if (message.buffers) {\n",
              "          for (const buffer of message.buffers) {\n",
              "            buffers.push(buffer);\n",
              "            downloaded += buffer.byteLength;\n",
              "            progress.value = downloaded;\n",
              "          }\n",
              "        }\n",
              "      }\n",
              "      const blob = new Blob(buffers, {type: 'application/binary'});\n",
              "      const a = document.createElement('a');\n",
              "      a.href = window.URL.createObjectURL(blob);\n",
              "      a.download = filename;\n",
              "      div.appendChild(a);\n",
              "      a.click();\n",
              "      div.remove();\n",
              "    }\n",
              "  "
            ]
          },
          "metadata": {}
        },
        {
          "output_type": "display_data",
          "data": {
            "text/plain": [
              "<IPython.core.display.Javascript object>"
            ],
            "application/javascript": [
              "download(\"download_3f1d7e5b-4e43-4765-9c2e-044e2e76b442\", \"model.tflite\", 122808)"
            ]
          },
          "metadata": {}
        }
      ]
    },
    {
      "cell_type": "code",
      "source": [],
      "metadata": {
        "id": "6MiKU3Pxk27R"
      },
      "execution_count": null,
      "outputs": []
    }
  ],
  "metadata": {
    "colab": {
      "provenance": [],
      "gpuType": "T4"
    },
    "kernelspec": {
      "display_name": "Python 3",
      "name": "python3"
    },
    "language_info": {
      "name": "python"
    },
    "accelerator": "GPU"
  },
  "nbformat": 4,
  "nbformat_minor": 0
}